{
  "nbformat": 4,
  "nbformat_minor": 0,
  "metadata": {
    "colab": {
      "name": "baitap14/10nangcao.ipynb",
      "provenance": [],
      "collapsed_sections": [],
      "authorship_tag": "ABX9TyPq3jqloqIlGs6L2ypmdYAX",
      "include_colab_link": true
    },
    "kernelspec": {
      "name": "python3",
      "display_name": "Python 3"
    },
    "language_info": {
      "name": "python"
    }
  },
  "cells": [
    {
      "cell_type": "markdown",
      "metadata": {
        "id": "view-in-github",
        "colab_type": "text"
      },
      "source": [
        "<a href=\"https://colab.research.google.com/github/Ldkhanhduy/baitap14-10/blob/main/baitap14_10nangcao.ipynb\" target=\"_parent\"><img src=\"https://colab.research.google.com/assets/colab-badge.svg\" alt=\"Open In Colab\"/></a>"
      ]
    },
    {
      "cell_type": "markdown",
      "metadata": {
        "id": "WMdfduzQgbeL"
      },
      "source": [
        "Bài 1: Viết chương trình thực hiện các yêu cầu sau:\n",
        "- Nhập vào 1 số nguyên dương N từ bàn phím\n",
        "- Hãy xây dựng 1 dictionary với các phần tử chỉ mục và giá trị có dạng (i: log(i)) với I đi từ\n",
        "0 tới N\n",
        "- Hiển thị dictionary trên ra màn hình"
      ]
    },
    {
      "cell_type": "code",
      "metadata": {
        "id": "JMSB8yRtgcT-",
        "colab": {
          "base_uri": "https://localhost:8080/"
        },
        "outputId": "5f46136b-24a3-46b7-8722-41a85aa89248"
      },
      "source": [
        "import math\n",
        "a1=int(input(\"Nhap so nguyen duong: \"))\n",
        "dic={}\n",
        "while a1<=0:\n",
        "  a1=int(input(\"Nhap lai: \"))\n",
        "for i in range(1,a1+1):\n",
        "  dic.update({i : round(math.log(i), 2)})\n",
        "print(\"dic: \", dic)"
      ],
      "execution_count": 33,
      "outputs": [
        {
          "output_type": "stream",
          "name": "stdout",
          "text": [
            "Nhap so nguyen duong-6\n",
            "Nhap lai: 2\n",
            "{1: 0.0, 2: 0.69}\n"
          ]
        }
      ]
    },
    {
      "cell_type": "markdown",
      "metadata": {
        "id": "xMGSFw6pgwHp"
      },
      "source": [
        "Bài 2: Viết chương trình thực hiện các yêu cầu sau:\n",
        "- Nhập vào từ bàn phím một chuỗi các giá trị (có thể là số nguyên, số thực hay các ký tự)\n",
        "cách nhau bởi dấu phẩy (“,”).\n",
        "- Chuyển chuỗi được nhập từ bàn phím thành một danh sách (list)\n",
        "- Hiển thị danh sách đó ra màn hình."
      ]
    },
    {
      "cell_type": "code",
      "metadata": {
        "colab": {
          "base_uri": "https://localhost:8080/"
        },
        "id": "8G4rCrZagx_N",
        "outputId": "4de565f6-a7b0-4b46-c1a7-ad646c1244d2"
      },
      "source": [
        "nhapvao=input(\"Nhap gi do:\")\n",
        "danhsach=nhapvao.split(\",\")\n",
        "danhsach=list(danhsach)\n",
        "print(\"danhsach:\", danhsach)"
      ],
      "execution_count": 16,
      "outputs": [
        {
          "output_type": "stream",
          "name": "stdout",
          "text": [
            "Nhap gi do:s\n",
            "Nhap nao chan thi thoi:e\n",
            "Nhap nao chan thi thoi:g\n",
            "Nhap nao chan thi thoi:xong\n",
            "danhsach: [' ', 's', 'e', 'g']\n"
          ]
        }
      ]
    },
    {
      "cell_type": "markdown",
      "metadata": {
        "id": "7L1d4c0kiIil"
      },
      "source": [
        "Bài 3: Viết chương trình thực hiện các yêu cầu sau:\n",
        "- Nhập vào từ bàn phím một chuỗi các giá trị (có thể là số nguyên, số thực hay các ký tự)\n",
        "cách nhau bởi dấu phẩy (“,”).\n",
        "- Chuyển chuỗi được nhập từ bàn phím thành một tuple\n",
        "- Hiển thị tuple đó ra màn hình."
      ]
    },
    {
      "cell_type": "code",
      "metadata": {
        "colab": {
          "base_uri": "https://localhost:8080/"
        },
        "id": "M3L3_qeliJFH",
        "outputId": "84bc76a3-e22d-4a54-9181-e7e88a220249"
      },
      "source": [
        "nhapvo=input(\"Nhap gi do:\")\n",
        "danhsach2=nhapvo.split(\",\")\n",
        "danhsach2=tuple(danhsach2)\n",
        "print(\"danhsach:\", danhsach2)"
      ],
      "execution_count": 22,
      "outputs": [
        {
          "output_type": "stream",
          "name": "stdout",
          "text": [
            "Nhap gi do:d\n",
            "Nhap nao chan thi thoi:e\n",
            "Nhap nao chan thi thoi:c\n",
            "Nhap nao chan thi thoi:xong\n",
            "danhsach: []\n"
          ]
        }
      ]
    },
    {
      "cell_type": "markdown",
      "metadata": {
        "id": "B6eWHajZin0z"
      },
      "source": [
        "Bài 4: Viết chương trình thực hiện các yêu cầu sau:\n",
        "- Nhập vào 1 chuỗi các kí tự từ bàn phím, các từ cách nhau bởi ít nhất một khoảng trắng\n",
        "- Chuyển chuỗi vừa nhập thành 1 danh sách với điều kiện phân tách là dấu khoảng trắng\n",
        "(space)\n",
        "- Hiển thị danh sách thu được ra màn hình"
      ]
    },
    {
      "cell_type": "code",
      "metadata": {
        "colab": {
          "base_uri": "https://localhost:8080/"
        },
        "id": "TvNGnR84ioRA",
        "outputId": "d9b87f03-2872-4c7f-edcf-7e69d2825165"
      },
      "source": [
        "nhapvao3=input(\"Nhap gi do:\")\n",
        "danhsach3=nhapvao3.split(\" \")\n",
        "print(\"danhsach:\", danhsach3)"
      ],
      "execution_count": 30,
      "outputs": [
        {
          "output_type": "stream",
          "name": "stdout",
          "text": [
            "Nhap gi do:sdf 2 34 6 sf g a sd g s\n",
            "danhsach: ['sdf', '2', '34', '6', 'sf', 'g', 'a', 'sd', 'g', 's']\n"
          ]
        }
      ]
    }
  ]
}
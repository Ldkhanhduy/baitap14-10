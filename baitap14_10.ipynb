{
  "nbformat": 4,
  "nbformat_minor": 0,
  "metadata": {
    "colab": {
      "name": "baitap14/10.ipynb",
      "provenance": [],
      "authorship_tag": "ABX9TyOhVJcoRthvCF4tfp5zHUuo",
      "include_colab_link": true
    },
    "kernelspec": {
      "name": "python3",
      "display_name": "Python 3"
    },
    "language_info": {
      "name": "python"
    }
  },
  "cells": [
    {
      "cell_type": "markdown",
      "metadata": {
        "id": "view-in-github",
        "colab_type": "text"
      },
      "source": [
        "<a href=\"https://colab.research.google.com/github/Ldkhanhduy/baitap14-10/blob/main/baitap14_10.ipynb\" target=\"_parent\"><img src=\"https://colab.research.google.com/assets/colab-badge.svg\" alt=\"Open In Colab\"/></a>"
      ]
    },
    {
      "cell_type": "markdown",
      "metadata": {
        "id": "RNHgADWEdRzh"
      },
      "source": [
        "BAI 1:"
      ]
    },
    {
      "cell_type": "code",
      "metadata": {
        "colab": {
          "base_uri": "https://localhost:8080/"
        },
        "id": "6IPdZBUjaJxu",
        "outputId": "54cd1415-c2ca-457d-9326-8aa42e065f83"
      },
      "source": [
        "a=int(input(\"Nhap thang (chi nhap tu 1-12): \"))\n",
        "while a not in range(1, 13):\n",
        "  a=int(input(\"Nhap lai: \"))\n",
        "else:\n",
        "  if (a==1) or (a==3) or (a==5) or (a==7) or (a==8) or (a==10) or (a==12):\n",
        "    print(\"Thang \", a, \"co 31 ngay\")\n",
        "  if (a==2): \n",
        "    nam=int(input(\"Nhap nam: \"))\n",
        "    if nam%4==0:\n",
        "      print(\"Thang 2 co 29 ngay vi nam nhuan\")\n",
        "    else: print(\"Thang 2 co 28 ngay\")\n",
        "  if (a==4) or (a==6) or (a==9) or (a==11):\n",
        "    print(\"Thang \", a, \"co 30 ngay\")"
      ],
      "execution_count": null,
      "outputs": [
        {
          "output_type": "stream",
          "name": "stdout",
          "text": [
            "Nhap thang (chi nhap tu 1-12): 2\n",
            "Nhap nam: 2016\n",
            "Thang 2 co 29 ngay vi nam nhuan\n"
          ]
        }
      ]
    },
    {
      "cell_type": "markdown",
      "metadata": {
        "id": "n2pnVtNQdXTu"
      },
      "source": [
        "BAI 2:"
      ]
    },
    {
      "cell_type": "code",
      "metadata": {
        "colab": {
          "base_uri": "https://localhost:8080/"
        },
        "id": "BU5HQwGCdYq8",
        "outputId": "cddb83b7-8e82-44e6-da92-5618c8ab5529"
      },
      "source": [
        "a2=input(\"Nhap tu: \")\n",
        "nguyenam=(\"e\", \"u\", \"o\", \"a\", \"i\")\n",
        "if a2 in nguyenam:\n",
        "  print(a2, \"la nguyen am\")\n",
        "else:\n",
        "  print(a2, \"la phu am\")"
      ],
      "execution_count": null,
      "outputs": [
        {
          "output_type": "stream",
          "name": "stdout",
          "text": [
            "Nhap tu: h\n",
            "h la phu am\n"
          ]
        }
      ]
    },
    {
      "cell_type": "markdown",
      "metadata": {
        "id": "YnuDsSI1eINB"
      },
      "source": [
        "BAI 3:"
      ]
    },
    {
      "cell_type": "code",
      "metadata": {
        "colab": {
          "base_uri": "https://localhost:8080/"
        },
        "id": "v9Pssx8ZeIfT",
        "outputId": "83a65b42-73f2-447d-bf94-d7c7200774c8"
      },
      "source": [
        "a3=int(input(\"Nhap nam: \"))\n",
        "if (a3%4==0):\n",
        "  print(a3, \"la nam nhuan\")\n",
        "else: print(a3, \"la nam thuong\")"
      ],
      "execution_count": null,
      "outputs": [
        {
          "output_type": "stream",
          "name": "stdout",
          "text": [
            "Nhap nam: 2027\n",
            "2027 la nam thuong\n"
          ]
        }
      ]
    },
    {
      "cell_type": "markdown",
      "metadata": {
        "id": "3maqFDHne2L5"
      },
      "source": [
        "BAI 4:"
      ]
    },
    {
      "cell_type": "code",
      "metadata": {
        "colab": {
          "base_uri": "https://localhost:8080/"
        },
        "id": "a-HBdJqGe3e2",
        "outputId": "f06c6c57-a721-4877-9f4a-f629582a6eed"
      },
      "source": [
        "b1=float(input(\"so 1: \"))\n",
        "b2=float(input(\"so 2: \"))\n",
        "b3=float(input(\"so 3: \"))\n",
        "b4=float(input(\"so 4: \"))\n",
        "b5=float(input(\"so 5: \"))\n",
        "print(\"tong cac so la: \", b1+b2+b3+b4+b5)\n",
        "print(\"tich cac so la: \", b1*b2*b3*b4)\n"
      ],
      "execution_count": null,
      "outputs": [
        {
          "output_type": "stream",
          "name": "stdout",
          "text": [
            "so 1: 2\n",
            "so 2: 6\n",
            "so 3: 4\n",
            "so 4: 9\n",
            "so 5: 5\n",
            "tong cac so la:  26.0\n",
            "tich cac so la:  432.0\n"
          ]
        }
      ]
    }
  ]
}